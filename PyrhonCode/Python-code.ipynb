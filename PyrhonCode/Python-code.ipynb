{
 "cells": [
  {
   "cell_type": "code",
   "execution_count": 1,
   "metadata": {},
   "outputs": [],
   "source": [
    "import pyaudio \n",
    "import time\n",
    "import speech_recognition as sr\n",
    "import re"
   ]
  },
  {
   "cell_type": "code",
   "execution_count": 2,
   "metadata": {},
   "outputs": [
    {
     "name": "stdout",
     "output_type": "stream",
     "text": [
      "0 Переназначение звуковых устр. - Input\n",
      "1 Микрофон (2- High Definition Au\n",
      "2 Переназначение звуковых устр. - Output\n",
      "3 Динамики (2- High Definition Au\n",
      "4 VG270U P (NVIDIA High Definitio\n",
      "5 Speakers (HD Audio Speaker)\n",
      "6 Микрофон (HD Audio Mixed capture)\n",
      "7 Output (NVIDIA High Definition Audio)\n"
     ]
    }
   ],
   "source": [
    "list_mic = sr.Microphone.list_microphone_names()\n",
    "for i in range(0, len(list_mic)):\n",
    "    print(i, list_mic[i])"
   ]
  },
  {
   "cell_type": "code",
   "execution_count": 3,
   "metadata": {},
   "outputs": [
    {
     "name": "stdout",
     "output_type": "stream",
     "text": [
      "5560\n",
      "55605560\n",
      "556055605560\n"
     ]
    }
   ],
   "source": [
    "def callback(recognizer, audio):\n",
    "    global a\n",
    "    global au_1\n",
    "    global au_2\n",
    "    global au_3  \n",
    "    try:\n",
    "        a += recognizer.recognize_google(audio, language='ru-RU')\n",
    "        print(a)\n",
    "        if re.search(r'^\\d{4}$', a):\n",
    "            au_1 = True\n",
    "    except sr.UnknownValueError:\n",
    "        print(\"Google Speech Recognition could not understand audio\")\n",
    "    except sr.RequestError as e:\n",
    "        print(\"Could not request results from Google Speech Recognition service; {0}\".format(e))\n",
    "a = ''\n",
    "au_1 = False\n",
    "au_2 = False\n",
    "au_3 = False\n",
    "\n",
    "r = sr.Recognizer()\n",
    "m = sr.Microphone(device_index = 1)\n",
    "\n",
    "with m as source:\n",
    "    r.adjust_for_ambient_noise(source)\n",
    "\n",
    "stop_listening = r.listen_in_background(m, callback, phrase_time_limit=4)\n",
    "\n",
    "#stop_listening(wait_for_stop=False)"
   ]
  },
  {
   "cell_type": "code",
   "execution_count": 5,
   "metadata": {},
   "outputs": [
    {
     "data": {
      "text/plain": [
       "True"
      ]
     },
     "execution_count": 5,
     "metadata": {},
     "output_type": "execute_result"
    },
    {
     "name": "stdout",
     "output_type": "stream",
     "text": [
      "Google Speech Recognition could not understand audio\n",
      "Google Speech Recognition could not understand audio\n"
     ]
    }
   ],
   "source": [
    "au_1"
   ]
  },
  {
   "cell_type": "code",
   "execution_count": null,
   "metadata": {},
   "outputs": [],
   "source": []
  }
 ],
 "metadata": {
  "kernelspec": {
   "display_name": "Python 3",
   "language": "python",
   "name": "python3"
  },
  "language_info": {
   "codemirror_mode": {
    "name": "ipython",
    "version": 3
   },
   "file_extension": ".py",
   "mimetype": "text/x-python",
   "name": "python",
   "nbconvert_exporter": "python",
   "pygments_lexer": "ipython3",
   "version": "3.7.6"
  }
 },
 "nbformat": 4,
 "nbformat_minor": 4
}
